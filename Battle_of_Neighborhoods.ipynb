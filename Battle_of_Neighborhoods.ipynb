{
 "cells": [
  {
   "cell_type": "markdown",
   "metadata": {},
   "source": [
    "# **\"The Battle of Neighborhoods: The Manhatan and The Downtown\"**\n",
    "\n",
    "## Table of Contents\n",
    "Introduction\n",
    "\n",
    "Data\n",
    "\n",
    "Methodology\n",
    "\n",
    "Result\n",
    "\n",
    "Discussion\n",
    "\n",
    "Conclusion\n",
    "\n",
    "## INTRODUCTION\n",
    "## Business Problem\n",
    "Mujaware Services LLC wants to open (restaurant) business but doesn't know which one of these two neighbourhoods, the Manhattan and the Downtown in the New York City and the Toronto City respectively, is better to open or site a company or business.\n",
    "\n",
    "Hence the problem is how to determine the right neighbourhood for Mujaware Services LLC to open a (restaurant) business.\n",
    "\n",
    "## Audiences\n",
    "The right audience for this work is the Mujaware Services LLC's management and other people who may want to site or start up a business in the neighbourhooods earlier-mentioned.\n",
    "\n",
    "The project or solution is important to the stakeholders and other audiences because it provides the best neighbourhood to be considered in citing a business in the city. \n",
    "\n",
    "Besides, it helps the audience or stakeholders in making or reaching decision quickly."
   ]
  },
  {
   "cell_type": "code",
   "execution_count": null,
   "metadata": {},
   "outputs": [],
   "source": []
  }
 ],
 "metadata": {
  "kernelspec": {
   "display_name": "Python 3",
   "language": "python",
   "name": "python3"
  },
  "language_info": {
   "codemirror_mode": {
    "name": "ipython",
    "version": 3
   },
   "file_extension": ".py",
   "mimetype": "text/x-python",
   "name": "python",
   "nbconvert_exporter": "python",
   "pygments_lexer": "ipython3",
   "version": "3.6.5"
  }
 },
 "nbformat": 4,
 "nbformat_minor": 2
}
